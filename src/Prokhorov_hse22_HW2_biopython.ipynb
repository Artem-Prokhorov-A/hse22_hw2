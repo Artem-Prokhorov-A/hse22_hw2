{
  "nbformat": 4,
  "nbformat_minor": 0,
  "metadata": {
    "colab": {
      "provenance": [],
      "collapsed_sections": [
        "nuikKeO1bL7N",
        "ed-CWFY3cZK0",
        "D2UNiwEyet54",
        "Pr5GctSQxlsQ"
      ]
    },
    "kernelspec": {
      "name": "python3",
      "display_name": "Python 3"
    },
    "language_info": {
      "name": "python"
    }
  },
  "cells": [
    {
      "cell_type": "markdown",
      "source": [
        "# Скачиваем данные и устанавливаем программы"
      ],
      "metadata": {
        "id": "WJ71oQTxShEj"
      }
    },
    {
      "cell_type": "code",
      "source": [
        "!wget https://raw.githubusercontent.com/Artem-Prokhorov-A/hse22_hw2/main/data/gms2.lst"
      ],
      "metadata": {
        "id": "fWSU9pxNTOSR",
        "colab": {
          "base_uri": "https://localhost:8080/"
        },
        "outputId": "c8e62ce7-5dea-454a-cf71-0b582fa04b91"
      },
      "execution_count": 38,
      "outputs": [
        {
          "output_type": "stream",
          "name": "stdout",
          "text": [
            "--2022-10-19 16:25:39--  https://raw.githubusercontent.com/Artem-Prokhorov-A/hse22_hw2/main/data/gms2.lst\n",
            "Resolving raw.githubusercontent.com (raw.githubusercontent.com)... 185.199.109.133, 185.199.108.133, 185.199.111.133, ...\n",
            "Connecting to raw.githubusercontent.com (raw.githubusercontent.com)|185.199.109.133|:443... connected.\n",
            "HTTP request sent, awaiting response... 200 OK\n",
            "Length: 220954 (216K) [text/plain]\n",
            "Saving to: ‘gms2.lst.1’\n",
            "\n",
            "gms2.lst.1          100%[===================>] 215.78K  --.-KB/s    in 0.03s   \n",
            "\n",
            "2022-10-19 16:25:39 (8.34 MB/s) - ‘gms2.lst.1’ saved [220954/220954]\n",
            "\n"
          ]
        }
      ]
    },
    {
      "cell_type": "code",
      "source": [
        "!wget https://raw.githubusercontent.com/Artem-Prokhorov-A/hse22_hw2/main/data/scaffolds.fasta"
      ],
      "metadata": {
        "id": "yWoD0myNTVi8",
        "colab": {
          "base_uri": "https://localhost:8080/"
        },
        "outputId": "2100e0b0-5544-4eb7-f4cb-bab9f83b01e6"
      },
      "execution_count": 39,
      "outputs": [
        {
          "output_type": "stream",
          "name": "stdout",
          "text": [
            "--2022-10-19 16:25:40--  https://raw.githubusercontent.com/Artem-Prokhorov-A/hse22_hw2/main/data/scaffolds.fasta\n",
            "Resolving raw.githubusercontent.com (raw.githubusercontent.com)... 185.199.109.133, 185.199.108.133, 185.199.110.133, ...\n",
            "Connecting to raw.githubusercontent.com (raw.githubusercontent.com)|185.199.109.133|:443... connected.\n",
            "HTTP request sent, awaiting response... 200 OK\n",
            "Length: 3965136 (3.8M) [text/plain]\n",
            "Saving to: ‘scaffolds.fasta.1’\n",
            "\n",
            "scaffolds.fasta.1   100%[===================>]   3.78M  --.-KB/s    in 0.07s   \n",
            "\n",
            "2022-10-19 16:25:40 (54.7 MB/s) - ‘scaffolds.fasta.1’ saved [3965136/3965136]\n",
            "\n"
          ]
        }
      ]
    },
    {
      "cell_type": "code",
      "source": [
        "!wget https://raw.githubusercontent.com/Artem-Prokhorov-A/hse22_hw2/main/data/proteins.fasta"
      ],
      "metadata": {
        "id": "FkuulZekTbh9",
        "colab": {
          "base_uri": "https://localhost:8080/"
        },
        "outputId": "1830b6f4-d2a0-4b34-fde6-e57a36265d72"
      },
      "execution_count": 40,
      "outputs": [
        {
          "output_type": "stream",
          "name": "stdout",
          "text": [
            "--2022-10-19 16:25:40--  https://raw.githubusercontent.com/Artem-Prokhorov-A/hse22_hw2/main/data/proteins.fasta\n",
            "Resolving raw.githubusercontent.com (raw.githubusercontent.com)... 185.199.109.133, 185.199.111.133, 185.199.108.133, ...\n",
            "Connecting to raw.githubusercontent.com (raw.githubusercontent.com)|185.199.109.133|:443... connected.\n",
            "HTTP request sent, awaiting response... 200 OK\n",
            "Length: 1403407 (1.3M) [text/plain]\n",
            "Saving to: ‘proteins.fasta.1’\n",
            "\n",
            "\rproteins.fasta.1      0%[                    ]       0  --.-KB/s               \rproteins.fasta.1    100%[===================>]   1.34M  --.-KB/s    in 0.05s   \n",
            "\n",
            "2022-10-19 16:25:40 (24.7 MB/s) - ‘proteins.fasta.1’ saved [1403407/1403407]\n",
            "\n"
          ]
        }
      ]
    },
    {
      "cell_type": "code",
      "source": [
        "!wget https://raw.githubusercontent.com/Artem-Prokhorov-A/hse22_hw2/main/data/scaffolds.hits_from_MIL_1.txt"
      ],
      "metadata": {
        "id": "wljcApdJTjGr",
        "colab": {
          "base_uri": "https://localhost:8080/"
        },
        "outputId": "3100a135-88df-498d-92f2-3cdf3795ee82"
      },
      "execution_count": 41,
      "outputs": [
        {
          "output_type": "stream",
          "name": "stdout",
          "text": [
            "--2022-10-19 16:25:40--  https://raw.githubusercontent.com/Artem-Prokhorov-A/hse22_hw2/main/data/scaffolds.hits_from_MIL_1.txt\n",
            "Resolving raw.githubusercontent.com (raw.githubusercontent.com)... 185.199.109.133, 185.199.108.133, 185.199.110.133, ...\n",
            "Connecting to raw.githubusercontent.com (raw.githubusercontent.com)|185.199.109.133|:443... connected.\n",
            "HTTP request sent, awaiting response... 200 OK\n",
            "Length: 869002 (849K) [text/plain]\n",
            "Saving to: ‘scaffolds.hits_from_MIL_1.txt.1’\n",
            "\n",
            "scaffolds.hits_from 100%[===================>] 848.63K  --.-KB/s    in 0.05s   \n",
            "\n",
            "2022-10-19 16:25:41 (18.2 MB/s) - ‘scaffolds.hits_from_MIL_1.txt.1’ saved [869002/869002]\n",
            "\n"
          ]
        }
      ]
    },
    {
      "cell_type": "code",
      "source": [
        "!wget https://raw.githubusercontent.com/Artem-Prokhorov-A/hse22_hw2/main/data/scaffolds.hits_from_SwissProt.txt"
      ],
      "metadata": {
        "id": "7ZGyVtAfTopz",
        "colab": {
          "base_uri": "https://localhost:8080/"
        },
        "outputId": "6d57fc4d-6c4a-487b-edd1-6d93e6155ae8"
      },
      "execution_count": 42,
      "outputs": [
        {
          "output_type": "stream",
          "name": "stdout",
          "text": [
            "--2022-10-19 16:25:41--  https://raw.githubusercontent.com/Artem-Prokhorov-A/hse22_hw2/main/data/scaffolds.hits_from_SwissProt.txt\n",
            "Resolving raw.githubusercontent.com (raw.githubusercontent.com)... 185.199.109.133, 185.199.111.133, 185.199.108.133, ...\n",
            "Connecting to raw.githubusercontent.com (raw.githubusercontent.com)|185.199.109.133|:443... connected.\n",
            "HTTP request sent, awaiting response... 200 OK\n",
            "Length: 65851 (64K) [text/plain]\n",
            "Saving to: ‘scaffolds.hits_from_SwissProt.txt.1’\n",
            "\n",
            "scaffolds.hits_from 100%[===================>]  64.31K  --.-KB/s    in 0.01s   \n",
            "\n",
            "2022-10-19 16:25:41 (5.49 MB/s) - ‘scaffolds.hits_from_SwissProt.txt.1’ saved [65851/65851]\n",
            "\n"
          ]
        }
      ]
    },
    {
      "cell_type": "markdown",
      "metadata": {
        "id": "EkEflOHmCHHW"
      },
      "source": [
        "## Скачиваем геном близкородственной бактерии T.oleivorans"
      ]
    },
    {
      "cell_type": "markdown",
      "metadata": {
        "id": "noBYTW1bRH9O"
      },
      "source": [
        "Геном, последовательности генов (нт) и белков (протеом) для бактерии Thalassolituus oleivorans MIL-1\n",
        "https://www.ncbi.nlm.nih.gov/nuccore/HF680312"
      ]
    },
    {
      "cell_type": "code",
      "source": [
        "!sh -c \"$(curl -fsSL ftp://ftp.ncbi.nlm.nih.gov/entrez/entrezdirect/install-edirect.sh)\""
      ],
      "metadata": {
        "id": "bqv3FR5efmk6",
        "colab": {
          "base_uri": "https://localhost:8080/"
        },
        "outputId": "d0687b12-232b-4a89-8269-0f44ae743806"
      },
      "execution_count": 43,
      "outputs": [
        {
          "output_type": "stream",
          "name": "stdout",
          "text": [
            "\n",
            "Entrez Direct has been successfully downloaded and installed.\n",
            "\n",
            "\n",
            "To activate EDirect for this terminal session, please execute the following:\n",
            "\n",
            "export PATH=${PATH}:${HOME}/edirect\n",
            "\n"
          ]
        }
      ]
    },
    {
      "cell_type": "code",
      "source": [
        "!$HOME/edirect/efetch -db nuccore -id HF680312 -format gb  >  T_oleivorans_MIL_1.gbk"
      ],
      "metadata": {
        "id": "4O3-rUx4fvbw"
      },
      "execution_count": 44,
      "outputs": []
    },
    {
      "cell_type": "code",
      "metadata": {
        "id": "j2uga-mieSB6",
        "colab": {
          "base_uri": "https://localhost:8080/"
        },
        "outputId": "6b0ac381-7f6b-4ab5-fc0c-d285464ff36c"
      },
      "source": [
        "!pip install biopython"
      ],
      "execution_count": 45,
      "outputs": [
        {
          "output_type": "stream",
          "name": "stdout",
          "text": [
            "Looking in indexes: https://pypi.org/simple, https://us-python.pkg.dev/colab-wheels/public/simple/\n",
            "Requirement already satisfied: biopython in /usr/local/lib/python3.7/dist-packages (1.79)\n",
            "Requirement already satisfied: numpy in /usr/local/lib/python3.7/dist-packages (from biopython) (1.21.6)\n"
          ]
        }
      ]
    },
    {
      "cell_type": "markdown",
      "source": [
        "## Аннотация генома (пример)"
      ],
      "metadata": {
        "id": "EJIw_JDLUgt5"
      }
    },
    {
      "cell_type": "markdown",
      "source": [
        "Biopython Tutorial: http://biopython.org/DIST/docs/tutorial/Tutorial.html"
      ],
      "metadata": {
        "id": "qhxlclhoYhBh"
      }
    },
    {
      "cell_type": "code",
      "source": [
        "!head -n 20 gms2.lst"
      ],
      "metadata": {
        "id": "G33GF-iGU9Ka",
        "colab": {
          "base_uri": "https://localhost:8080/"
        },
        "outputId": "df689faf-ef6f-4044-f195-0ae83b34b73f"
      },
      "execution_count": 46,
      "outputs": [
        {
          "output_type": "stream",
          "name": "stdout",
          "text": [
            "# GeneMark.hmm-2 LST format\n",
            "# GeneMark.hmm-2 prokaryotic version: 1.25_lic\n",
            "# File with sequence: scaffolds.fasta\n",
            "# File with native parameters: GMS2.mod\n",
            "# Native species name and build: unspecified GeneMarkS-2-1.14_1.25_lic\n",
            "# File with MetaGeneMark parameters: /content/gms2_linux_64/mgm_11.mod\n",
            "# translation table: 11\n",
            "# output date start: Wed Oct 19 14:26:55 2022\n",
            "\n",
            "# sequence-region 1 3873035\n",
            "SequenceID: scaffold1_cov283\n",
            "     1   +    575    1237     663 native ATAGAG 6 1\n",
            "     2   +    1238    1942     705 native TACGAG 9 1\n",
            "     3   -    1958    2920     963 native ATGGAG 11 1\n",
            "     4   -    2917    3765     849 native TTGGTT 3 1\n",
            "     5   +    3892    4239     348 native TAGGTG 4 1\n",
            "     6   +    4232    4642     411 native ATCGAT 4 1\n",
            "     7   +    4642    5547     906 native GAGGCC 8 1\n",
            "     8   +    5665    6855    1191 native AAGGCT 6 1\n",
            "     9   +    6877    7782     906 native AAGGAA 5 1\n"
          ]
        }
      ]
    },
    {
      "cell_type": "markdown",
      "source": [
        "Для примера проаннотируем два коротких скаффолда (scaffold3_cov275 и scaffold9_cov256):\n",
        "\n"
      ],
      "metadata": {
        "id": "OKK4GsdqZPZ6"
      }
    },
    {
      "cell_type": "code",
      "metadata": {
        "id": "1hegJvwMIiPe"
      },
      "source": [
        "from Bio import SeqIO\n",
        "\n",
        "for record in SeqIO.parse(\"/content/scaffolds.fasta\", \"fasta\"):\n",
        "  if record.id == 'scaffold3_cov275':\n",
        "    record_sc3 = record\n",
        "  if record.id == 'scaffold9_cov256':\n",
        "    record_sc9 = record"
      ],
      "execution_count": 47,
      "outputs": []
    },
    {
      "cell_type": "code",
      "source": [
        "record_sc3"
      ],
      "metadata": {
        "id": "dqUNHl5XuVh_",
        "colab": {
          "base_uri": "https://localhost:8080/"
        },
        "outputId": "2faae8a1-706d-4efb-de84-2e1e12e98e28"
      },
      "execution_count": 48,
      "outputs": [
        {
          "output_type": "execute_result",
          "data": {
            "text/plain": [
              "SeqRecord(seq=Seq('TTTTAGCACCTCCTATTACGCGACCGGAATTAGTTTGCCACTACAGAACATTCA...GTA'), id='scaffold3_cov275', name='scaffold3_cov275', description='scaffold3_cov275', dbxrefs=[])"
            ]
          },
          "metadata": {},
          "execution_count": 48
        }
      ]
    },
    {
      "cell_type": "code",
      "source": [
        "record_sc3.id"
      ],
      "metadata": {
        "id": "eLKgrJ5vaH_t",
        "colab": {
          "base_uri": "https://localhost:8080/",
          "height": 37
        },
        "outputId": "f49fc2ca-4a8d-41ab-f6e1-1797dd193d3f"
      },
      "execution_count": 49,
      "outputs": [
        {
          "output_type": "execute_result",
          "data": {
            "text/plain": [
              "'scaffold3_cov275'"
            ],
            "application/vnd.google.colaboratory.intrinsic+json": {
              "type": "string"
            }
          },
          "metadata": {},
          "execution_count": 49
        }
      ]
    },
    {
      "cell_type": "code",
      "source": [
        "len(record_sc3)"
      ],
      "metadata": {
        "id": "FLjqnjyJaUVf",
        "colab": {
          "base_uri": "https://localhost:8080/"
        },
        "outputId": "2d8f753e-4ee0-4658-e2eb-382e1c92096b"
      },
      "execution_count": 50,
      "outputs": [
        {
          "output_type": "execute_result",
          "data": {
            "text/plain": [
              "3378"
            ]
          },
          "metadata": {},
          "execution_count": 50
        }
      ]
    },
    {
      "cell_type": "code",
      "source": [
        "record_sc9.id"
      ],
      "metadata": {
        "id": "NGe-fVkeaKoe",
        "colab": {
          "base_uri": "https://localhost:8080/",
          "height": 37
        },
        "outputId": "e2847b61-3f5c-47dc-883d-08075778c744"
      },
      "execution_count": 51,
      "outputs": [
        {
          "output_type": "execute_result",
          "data": {
            "text/plain": [
              "'scaffold9_cov256'"
            ],
            "application/vnd.google.colaboratory.intrinsic+json": {
              "type": "string"
            }
          },
          "metadata": {},
          "execution_count": 51
        }
      ]
    },
    {
      "cell_type": "code",
      "source": [
        "len(record_sc9)"
      ],
      "metadata": {
        "id": "IYFdz8_WaX7t",
        "colab": {
          "base_uri": "https://localhost:8080/"
        },
        "outputId": "a9c24cb1-7d24-4c14-b256-d0b1fb81550e"
      },
      "execution_count": 52,
      "outputs": [
        {
          "output_type": "execute_result",
          "data": {
            "text/plain": [
              "4664"
            ]
          },
          "metadata": {},
          "execution_count": 52
        }
      ]
    },
    {
      "cell_type": "code",
      "source": [
        "record_sc3.annotations['molecule_type'] = 'DNA'\n",
        "record_sc9.annotations['molecule_type'] = 'DNA'"
      ],
      "metadata": {
        "id": "IilT-kkKXC8A"
      },
      "execution_count": 53,
      "outputs": []
    },
    {
      "cell_type": "code",
      "source": [
        "record_sc3.format(\"genbank\")"
      ],
      "metadata": {
        "id": "XaLONTVNaxZu",
        "colab": {
          "base_uri": "https://localhost:8080/",
          "height": 140
        },
        "outputId": "6c6d47ae-fac2-442f-965c-7911ad399ae6"
      },
      "execution_count": 54,
      "outputs": [
        {
          "output_type": "execute_result",
          "data": {
            "text/plain": [
              "'LOCUS       scaffold3_cov275        3378 bp    DNA              UNK 01-JAN-1980\\nDEFINITION  scaffold3_cov275.\\nACCESSION   scaffold3_cov275\\nVERSION     scaffold3_cov275\\nKEYWORDS    .\\nSOURCE      .\\n  ORGANISM  .\\n            .\\nFEATURES             Location/Qualifiers\\nORIGIN\\n        1 ttttagcacc tcctattacg cgaccggaat tagtttgcca ctacagaaca ttcaacatcg\\n       61 acagcattat catcatttat taatttaaac ttttcctcca tatctcgcgc acgtcgagaa\\n      121 agacgaacgg ctcccattgt tccggcagca ccctttaacg tatgtagggc tttcgtgctt\\n      181 tcatgccatt gtttagtctg ccaacacaga gcaacttcct caatgattgt ttgcatttct\\n      241 actacaaaca tactctgcat tcttttaaat aggttcttat tattattgaa tcttcgcaga\\n      301 agacttaact tatcttcaat caattcataa gcgctatcgt tcgtcgatac atttttatcc\\n      361 tcagttgacg ttcccatgcc caccaataag accgtattta ctagctcttc aagatcaact\\n      421 ggtttactga tatgagcgtt cattccaacc gcagcacaag cctcacggtc ttctaatgac\\n      481 acattagccg tcatagccac gatggggaga ttattccaac ggccatcagc acgaattctt\\n      541 cgtgtggctt ctaagccatc gatatcgggc atttgaatat ccataagaac aaggtcataa\\n      601 acacaagtgc ctgatatgac tttatctacc ccctcaatcc cgcctgtcgc taaatccacg\\n      661 ttagcgccct cggcagctaa aagttcataa gctatttcac gattaataat attatcttct\\n      721 accactaaca agtgcttacc ctttaaacgc tgcaaacgtc cattgttttc gactacagga\\n      781 ttttcccgat tattcaacac tcgctctacc gattcagata actgcaaagg tgtaatcggt\\n      841 ttacttaaaa agtcactata aactggtatg tcatcgccaa attcattccc gattaatgcc\\n      901 cgtccatatg cacttataat aataattttt ggagcatctt cgcccatcaa gttaacgatc\\n      961 gactgcgcaa catcatcgcc attaatatcc ggcaactgca aatatactcg acgtttattt\\n     1021 caggaggtaa agctttttct ggagcactgt ctaagtcata cattgcccaa tgattagcta\\n     1081 tgattggaga ctttgagcat aaatattctt tagtattttt cttatttttc taatatcaat\\n     1141 agactcaacg ctggaatgaa aagctttgcg ataccagctt gatgagtaag gaccaaaggg\\n     1201 ctttattaac attgatcgat gagggccccg cccagaatct cctccaccaa atggtttcta\\n     1261 gcatccaaca tctgccgtgt acatccttaa tcgtaaaaac tgaagtacta tggaattaca\\n     1321 actttttaat gatttttaat acacatcaat cacaagaacc agggagtatt gattgctgac\\n     1381 acctcacgaa gacctttcaa ggctctatcg aggctttcac ctcgaccaga ccgatatgca\\n     1441 aggaagatag gataagtaaa ttcatcggag tcaggcatac gaatcagcct tccgttatcg\\n     1501 aggtaaggct gtaccacacg actacgaaac cacccattac cgccaacagc aagcataaac\\n     1561 tgcaaagctg caggtccgaa attaaaagag tatgcacttt gttctcgcga cgctaacgag\\n     1621 gctaaatact gtttctctac acccctaccc cagtcgatat aaatgtctgg ctcagccccc\\n     1681 agaggactct gcacacgaat tagcttttcc tccaacaatt gctccacaca acacccagca\\n     1741 aagtaattag gtcgatgcaa aatgacagca tctaaatgcc cctcttccat cgctcgattc\\n     1801 aggtcattag cttcagcgac ggaggcatcg accgcgacct ccggcagctc agcctccaac\\n     1861 caagataccc actgcgtcag aagaggattc cataatgtcg cttcactgcc caatctgaga\\n     1921 cgttcagtat gcccttcagg aatagctatg ctctgacgag ccctgcccca agcggaaatg\\n     1981 atcgtatttg catagggcag aaagcgctct ccctccggag tgagagacgc gcctgcccgg\\n     2041 ttacggacaa acaagcgagc gcccatcgaa tcttcaaggc tacgtattct ggcagtgacc\\n     2101 gctgcttgtg tgacgtgaag gctttctgct gctcgaacaa aacttccagc ataaacaacc\\n     2161 tcaagaaaag tacgaactag gacagcgtcc atatttgatc actttatatt aaatttattt\\n     2221 atataaagta caataattta tcatttatta aaaatattaa gaccatatat agtgcatcgc\\n     2281 attcctacta gcggagtgta agcatgaatc tgaacgttat tagtcttctc gcgatgagca\\n     2341 tttcaacaac tctcgtactt gtctgtttag ccatcgtgac gatctttgag caatcattac\\n     2401 ctattcatct tctggtagcg ggtcatggca ctgccatggt cagcgcggta ggcatcaaac\\n     2461 taggctacat ccttcgtctt cagtaccaag cgcaacaaaa acgatgaaaa gaaattcttt\\n     2521 actgatatat agcgtgcttc attatctagg agttcagtct gatacaacat cccacacaga\\n     2581 gaagctaatt tctggaatcg gagcggcagt aggtattctc gccatatata gcgtgctcag\\n     2641 tgcatacccc accaaccacc cccttacatt ggtcatggca tcggtcgcag catctgcagt\\n     2701 attggtattt gcagtaccgc atggtgcgct ctcgcaacca tggcctgtca tgggaagtta\\n     2761 cttaacatca gctgccctgg gagtcacgtg tagccactgg attcagcatg atgcggcggc\\n     2821 tgcagtaacc gctgtcggct tttcggtcat atgcatgcac tatcttcgct gtcttcaccc\\n     2881 acccggggca gcggttgcac tggtcgcagt cactggtggg gccgatattg aggcaatggg\\n     2941 atatcagttc attatggtac ctgcgttatt aaacgctggc acactagtcg gtgcggctgt\\n     3001 catatacaac tatgcctatc catggcgacg ctacccggta ccactggtgt atcacacgcc\\n     3061 gcatccccac ccttcaatta gcgaaaacaa cctaattgaa ttgactgtgg aagattatca\\n     3121 gtacgcgcta cgccaacaag attcatttat tgatatcagt cccgaggatt tagcagagct\\n     3181 agtggaatgc gcacgcgaac acgcccttag ctaccaaagc tcagcctcca caacaaccga\\n     3241 cacacagcct catcctcagt cgtaataacg acatcgacaa caactaacta catacagaga\\n     3301 tcattcatgc taaacactca ccaaattaat atctgaatcg cccctagttt cttagacact\\n     3361 ctttaaagtt acaatgta\\n//\\n'"
            ],
            "application/vnd.google.colaboratory.intrinsic+json": {
              "type": "string"
            }
          },
          "metadata": {},
          "execution_count": 54
        }
      ]
    },
    {
      "cell_type": "code",
      "source": [
        "SeqIO.write([record_sc3, record_sc9], \"GENOME.gbk\", \"genbank\")"
      ],
      "metadata": {
        "id": "4mv05veKXHWo",
        "colab": {
          "base_uri": "https://localhost:8080/"
        },
        "outputId": "4d124892-6553-4c81-f0d1-73c768fd103e"
      },
      "execution_count": 55,
      "outputs": [
        {
          "output_type": "execute_result",
          "data": {
            "text/plain": [
              "2"
            ]
          },
          "metadata": {},
          "execution_count": 55
        }
      ]
    },
    {
      "cell_type": "markdown",
      "source": [
        "## Добавляем координаты генов"
      ],
      "metadata": {
        "id": "nuikKeO1bL7N"
      }
    },
    {
      "cell_type": "markdown",
      "source": [
        "```\n",
        "SequenceID: scaffold3_cov275\n",
        "  3535   -    30    1001     972 atypical GTCGAG 5 1\n",
        "  3536   -    1350    2192     843 native AAAGTG 7 1\n",
        "  3537   +    2304    2507     204 native GCGGAG 7 1\n",
        "  3538   -    2554    2751     198 native TAAGTA 7 1\n",
        "  3539   +    2855    3265     411 native TCGGTC 6 1\n",
        "```"
      ],
      "metadata": {
        "id": "lR-FjFgRba09"
      }
    },
    {
      "cell_type": "code",
      "metadata": {
        "id": "4cXKMhtmYZ9t"
      },
      "source": [
        "from pprint import pprint\n",
        "from Bio.SeqFeature import SeqFeature, FeatureLocation\n",
        "\n",
        "sc3_f1 = SeqFeature(FeatureLocation(30, 1001, strand=-1), type=\"CDS\")\n",
        "sc3_f1.qualifiers['locus_tag'] = ['3535']\n",
        "\n",
        "sc3_f2 = SeqFeature(FeatureLocation(1350, 2192, strand=-1), type=\"CDS\")\n",
        "sc3_f2.qualifiers['locus_tag'] = ['3536']\n",
        "\n",
        "sc3_f3 = SeqFeature(FeatureLocation(2304, 2507, strand=1), type=\"CDS\")\n",
        "sc3_f3.qualifiers['locus_tag'] = ['3537']"
      ],
      "execution_count": 56,
      "outputs": []
    },
    {
      "cell_type": "code",
      "source": [
        "pprint(vars(sc3_f1))"
      ],
      "metadata": {
        "id": "bLUbuampdB-i",
        "colab": {
          "base_uri": "https://localhost:8080/"
        },
        "outputId": "e8bd9b90-7b6d-4305-d14e-f56d5e0b38d5"
      },
      "execution_count": 57,
      "outputs": [
        {
          "output_type": "stream",
          "name": "stdout",
          "text": [
            "{'id': '<unknown id>',\n",
            " 'location': FeatureLocation(ExactPosition(30), ExactPosition(1001), strand=-1),\n",
            " 'qualifiers': OrderedDict([('locus_tag', ['3535'])]),\n",
            " 'type': 'CDS'}\n"
          ]
        }
      ]
    },
    {
      "cell_type": "code",
      "source": [
        "record_sc3.features = [sc3_f1, sc3_f2, sc3_f3]"
      ],
      "metadata": {
        "id": "LpU8776ZvUbo"
      },
      "execution_count": 58,
      "outputs": []
    },
    {
      "cell_type": "code",
      "source": [
        "SeqIO.write([record_sc3, record_sc9], \"GENOME.gbk\", \"genbank\")"
      ],
      "metadata": {
        "id": "GoDauTDCvcdM",
        "colab": {
          "base_uri": "https://localhost:8080/"
        },
        "outputId": "b9a8b43b-d3a0-4597-ed25-932f2fd75e14"
      },
      "execution_count": 59,
      "outputs": [
        {
          "output_type": "execute_result",
          "data": {
            "text/plain": [
              "2"
            ]
          },
          "metadata": {},
          "execution_count": 59
        }
      ]
    },
    {
      "cell_type": "markdown",
      "source": [
        "## Добавляем трансляции генов (аминокислотные посл-ти)"
      ],
      "metadata": {
        "id": "ed-CWFY3cZK0"
      }
    },
    {
      "cell_type": "code",
      "source": [
        "all_feats = [sc3_f1, sc3_f2, sc3_f3]\n",
        "for record in SeqIO.parse(\"proteins.fasta\", \"fasta\"):\n",
        "  for f in all_feats:\n",
        "    if record.id == f.qualifiers['locus_tag'][0]:\n",
        "      f.qualifiers['translation'] = [record.seq]"
      ],
      "metadata": {
        "id": "lmT1wp0Bcnlq"
      },
      "execution_count": 60,
      "outputs": []
    },
    {
      "cell_type": "code",
      "source": [
        "record_sc3.features = [sc3_f1, sc3_f2, sc3_f3]"
      ],
      "metadata": {
        "id": "O7npTyvav-yI"
      },
      "execution_count": 61,
      "outputs": []
    },
    {
      "cell_type": "code",
      "source": [
        "SeqIO.write([record_sc3, record_sc9], \"GENOME.gbk\", \"genbank\")"
      ],
      "metadata": {
        "id": "AZfod3Pcv-yP",
        "colab": {
          "base_uri": "https://localhost:8080/"
        },
        "outputId": "90c9c211-d7ab-434b-d415-fbdcbe8b93e5"
      },
      "execution_count": 62,
      "outputs": [
        {
          "output_type": "execute_result",
          "data": {
            "text/plain": [
              "2"
            ]
          },
          "metadata": {},
          "execution_count": 62
        }
      ]
    },
    {
      "cell_type": "code",
      "source": [
        "pprint(vars(sc3_f1))"
      ],
      "metadata": {
        "id": "8ylsrwLOeeOk",
        "colab": {
          "base_uri": "https://localhost:8080/"
        },
        "outputId": "4ca8f216-e5f7-4966-e33e-33a4435ff98d"
      },
      "execution_count": 63,
      "outputs": [
        {
          "output_type": "stream",
          "name": "stdout",
          "text": [
            "{'id': '<unknown id>',\n",
            " 'location': FeatureLocation(ExactPosition(30), ExactPosition(1001), strand=-1),\n",
            " 'qualifiers': OrderedDict([('locus_tag', ['3535']),\n",
            "                            ('translation',\n",
            "                             [Seq('LQLPDINGDDVAQSIVNLMGEDAPKIIIISAYGRALIGNEFGDDIPVYSDFLSK...VAN')])]),\n",
            " 'type': 'CDS'}\n"
          ]
        }
      ]
    },
    {
      "cell_type": "markdown",
      "source": [
        "## Добавляем функции белков (из бактерии MIL-1)"
      ],
      "metadata": {
        "id": "D2UNiwEyet54"
      }
    },
    {
      "cell_type": "markdown",
      "source": [
        "Часть файла scaffolds.hits_from_MIL_1.txt:\n",
        "```\n",
        "3535\tlcl|HF680312.1_prot_CCU72326.1_1877\t99.054\t317\t3\t0\t3\t319\t1\t317\t0.0\t644\n",
        "3535\tlcl|HF680312.1_prot_CCU72392.1_1943\t34.583\t240\t138\t5\t85\t307\t956\t1193\t2.33e-30\t118\n",
        "3535\tlcl|HF680312.1_prot_CCU72759.1_2310\t27.667\t300\t188\t8\t8\t302\t709\t984\t1.02e-24\t101\n",
        "3535\tlcl|HF680312.1_prot_CCU70543.1_94\t42.857\t126\t71\t1\t79\t204\t798\t922\t5.63e-24\t99.4\n",
        "3535\tlcl|HF680312.1_prot_CCU70690.1_241\t26.140\t329\t205\t10\t2\t303\t591\t908\t6.26e-23\t96.7\n",
        "3535\tlcl|HF680312.1_prot_CCU74013.1_3564\t38.462\t130\t76\t3\t91\t219\t685\t811\t4.96e-20\t87.8\n",
        "3535\tlcl|HF680312.1_prot_CCU71475.1_1026\t36.522\t115\t71\t2\t86\t200\t555\t667\t2.19e-16\t76.6\n",
        "3535\tlcl|HF680312.1_prot_CCU71362.1_913\t24.535\t269\t187\t3\t52\t306\t633\t899\t2.61e-14\t70.5\n",
        "3535\tlcl|HF680312.1_prot_CCU70724.1_275\t30.534\t131\t81\t3\t78\t205\t1983\t2106\t6.54e-13\t66.2\n",
        "3535\tlcl|HF680312.1_prot_CCU70719.1_270\t26.087\t115\t83\t1\t90\t204\t15\t127\t9.14e-12\t58.5\n",
        "3535\tlcl|HF680312.1_prot_CCU72006.1_1557\t35.652\t115\t68\t3\t87\t200\t421\t530\t1.06e-11\t62.0\n",
        "3535\tlcl|HF680312.1_prot_CCU72513.1_2064\t33.628\t113\t72\t1\t91\t200\t766\t878\t1.22e-11\t62.4\n",
        "3536\tlcl|HF680312.1_prot_CCU72327.1_1878\t100.000\t280\t0\t0\t1\t280\t1\t280\t0.0\t570\n",
        "3536\tlcl|HF680312.1_prot_CCU72858.1_2409\t27.437\t277\t181\t4\t10\t272\t1\t271\t1.82e-26\t101\n",
        "3537\tlcl|HF680312.1_prot_CCU72328.1_1879\t100.000\t67\t0\t0\t1\t67\t1\t67\t9.75e-44\t132\n",
        "```"
      ],
      "metadata": {
        "id": "tCFpL_GLfDzJ"
      }
    },
    {
      "cell_type": "code",
      "source": [
        "sc3_f1.qualifiers['note'] = ['CCU72326.1']\n",
        "sc3_f2.qualifiers['note'] = ['CCU72327.1']\n",
        "sc3_f3.qualifiers['note'] = ['CCU72328.1']"
      ],
      "metadata": {
        "id": "L8dFyRiakGm2"
      },
      "execution_count": 64,
      "outputs": []
    },
    {
      "cell_type": "code",
      "source": [
        "pprint(sc3_f1.qualifiers)"
      ],
      "metadata": {
        "id": "QKxmGI7gkgKz",
        "colab": {
          "base_uri": "https://localhost:8080/"
        },
        "outputId": "fa350844-5123-4a11-ea41-b1e470375cfe"
      },
      "execution_count": 65,
      "outputs": [
        {
          "output_type": "stream",
          "name": "stdout",
          "text": [
            "OrderedDict([('locus_tag', ['3535']),\n",
            "             ('translation',\n",
            "              [Seq('LQLPDINGDDVAQSIVNLMGEDAPKIIIISAYGRALIGNEFGDDIPVYSDFLSK...VAN')]),\n",
            "             ('note', ['CCU72326.1'])])\n"
          ]
        }
      ]
    },
    {
      "cell_type": "code",
      "source": [
        "mil_1_genome = SeqIO.read(\"/content/T_oleivorans_MIL_1.gbk\", \"genbank\")"
      ],
      "metadata": {
        "id": "MxKSgTvihLIY"
      },
      "execution_count": 66,
      "outputs": []
    },
    {
      "cell_type": "code",
      "metadata": {
        "id": "4EDCGDdmZt8O"
      },
      "source": [
        "for  mil_f in mil_1_genome.features:\n",
        "  if 'protein_id' not in mil_f.qualifiers:\n",
        "    continue\n",
        "    \n",
        "  for f in all_feats:\n",
        "    if f.qualifiers['note'][0] == mil_f.qualifiers['protein_id'][0]:\n",
        "      f.qualifiers['product'] = mil_f.qualifiers['product']"
      ],
      "execution_count": 67,
      "outputs": []
    },
    {
      "cell_type": "code",
      "source": [
        "pprint(sc3_f1.qualifiers)"
      ],
      "metadata": {
        "id": "eK-3-vRCxHEP",
        "colab": {
          "base_uri": "https://localhost:8080/"
        },
        "outputId": "8e5b7a51-fb6a-4e05-a41b-42db13a7534f"
      },
      "execution_count": 68,
      "outputs": [
        {
          "output_type": "stream",
          "name": "stdout",
          "text": [
            "OrderedDict([('locus_tag', ['3535']),\n",
            "             ('translation',\n",
            "              [Seq('LQLPDINGDDVAQSIVNLMGEDAPKIIIISAYGRALIGNEFGDDIPVYSDFLSK...VAN')]),\n",
            "             ('note', ['CCU72326.1']),\n",
            "             ('product', ['sensor/response regulator hybrid'])])\n"
          ]
        }
      ]
    },
    {
      "cell_type": "code",
      "source": [
        "record_sc3.features = [sc3_f1, sc3_f2, sc3_f3]\n",
        "SeqIO.write([record_sc3, record_sc9], \"GENOME.gbk\", \"genbank\")"
      ],
      "metadata": {
        "id": "KHcrRw4HxTzk",
        "colab": {
          "base_uri": "https://localhost:8080/"
        },
        "outputId": "31fc3cb9-594c-43d7-89ac-9af9a698ddf7"
      },
      "execution_count": 69,
      "outputs": [
        {
          "output_type": "execute_result",
          "data": {
            "text/plain": [
              "2"
            ]
          },
          "metadata": {},
          "execution_count": 69
        }
      ]
    },
    {
      "cell_type": "markdown",
      "source": [
        "## Добавляем функции белков (из БД SwissProt)"
      ],
      "metadata": {
        "id": "Pr5GctSQxlsQ"
      }
    },
    {
      "cell_type": "markdown",
      "source": [
        "Читаем информацию из файла scaffolds.hits_from_SwissProt.txt"
      ],
      "metadata": {
        "id": "xLafv2r8xo6P"
      }
    },
    {
      "cell_type": "code",
      "source": [
        "!head scaffolds.hits_from_SwissProt.txt"
      ],
      "metadata": {
        "id": "_bHOMEqhxvDd",
        "colab": {
          "base_uri": "https://localhost:8080/"
        },
        "outputId": "f39ddb4b-e08e-4653-d875-225660126cd2"
      },
      "execution_count": 70,
      "outputs": [
        {
          "output_type": "stream",
          "name": "stdout",
          "text": [
            "103\tsp|Q58577|Y1178_METJA\t30.055\t366\t192\t15\t1\t336\t4\t335\t2.97e-28\t115\n",
            "103\tsp|Q81ST7|BSHA_BACAN\t29.097\t299\t168\t10\t63\t335\t77\t357\t2.74e-22\t100\n",
            "103\tsp|P9WMZ3|PIMB_MYCTU\t28.689\t244\t148\t6\t113\t336\t130\t367\t3.03e-21\t97.1\n",
            "103\tsp|P9WMZ2|PIMB_MYCTO\t28.689\t244\t148\t6\t113\t336\t130\t367\t3.03e-21\t97.1\n",
            "103\tsp|O32272|TUAC_BACSU\t25.313\t399\t230\t11\t1\t348\t1\t382\t8.09e-21\t95.9\n",
            "103\tsp|Q59002|Y1607_METJA\t28.523\t298\t181\t10\t67\t340\t84\t373\t1.72e-18\t89.4\n",
            "103\tsp|Q8NTA6|MSHA_CORGL\t30.147\t272\t160\t13\t103\t352\t144\t407\t1.34e-17\t86.7\n",
            "103\tsp|A4QB40|MSHA_CORGB\t30.147\t272\t160\t13\t103\t352\t144\t407\t1.34e-17\t86.7\n",
            "103\tsp|A7TZT2|MFPS_AGRFC\t26.400\t250\t160\t6\t106\t336\t177\t421\t9.87e-17\t84.3\n",
            "103\tsp|Q8FSH1|MSHA_COREF\t29.588\t267\t156\t12\t106\t349\t147\t404\t3.79e-16\t82.4\n"
          ]
        }
      ]
    },
    {
      "cell_type": "markdown",
      "source": [
        "product = 'Similar to SwissProt protein Y1178_METJA (E-value = 2.95e-28)'"
      ],
      "metadata": {
        "id": "UykENPFgyIQu"
      }
    },
    {
      "cell_type": "markdown",
      "source": [
        "Получить функции белков SwissProt из файла: https://ftp.uniprot.org/pub/databases/uniprot/current_release/knowledgebase/complete/uniprot_sprot.dat.gz"
      ],
      "metadata": {
        "id": "HWWUeHCdyAdb"
      }
    },
    {
      "cell_type": "code",
      "source": [
        "!wget https://ftp.uniprot.org/pub/databases/uniprot/current_release/knowledgebase/complete/uniprot_sprot.dat.gz"
      ],
      "metadata": {
        "colab": {
          "base_uri": "https://localhost:8080/"
        },
        "id": "tTRJ0KfnWIdt",
        "outputId": "04131563-fd38-4baa-c70a-1d7c226fe2b9"
      },
      "execution_count": 71,
      "outputs": [
        {
          "output_type": "stream",
          "name": "stdout",
          "text": [
            "--2022-10-19 16:26:14--  https://ftp.uniprot.org/pub/databases/uniprot/current_release/knowledgebase/complete/uniprot_sprot.dat.gz\n",
            "Resolving ftp.uniprot.org (ftp.uniprot.org)... 128.175.240.195\n",
            "Connecting to ftp.uniprot.org (ftp.uniprot.org)|128.175.240.195|:443... connected.\n",
            "HTTP request sent, awaiting response... 200 OK\n",
            "Length: 642093634 (612M) [application/x-gzip]\n",
            "Saving to: ‘uniprot_sprot.dat.gz.1’\n",
            "\n",
            "uniprot_sprot.dat.g 100%[===================>] 612.35M  27.7MB/s    in 8.8s    \n",
            "\n",
            "2022-10-19 16:26:23 (69.8 MB/s) - ‘uniprot_sprot.dat.gz.1’ saved [642093634/642093634]\n",
            "\n"
          ]
        }
      ]
    },
    {
      "cell_type": "code",
      "source": [
        "!gzip -d uniprot_sprot.dat.gz"
      ],
      "metadata": {
        "id": "_7n4ZxdjWPxH"
      },
      "execution_count": 72,
      "outputs": []
    },
    {
      "cell_type": "code",
      "source": [
        "!grep Q55EH8 uniprot_sprot.dat"
      ],
      "metadata": {
        "colab": {
          "base_uri": "https://localhost:8080/"
        },
        "id": "-nbARM7PWy3z",
        "outputId": "8d74c234-2c80-4215-e493-daa9914dc8f8"
      },
      "execution_count": 73,
      "outputs": [
        {
          "output_type": "stream",
          "name": "stdout",
          "text": [
            "AC   Q55EH8;\n",
            "DR   AlphaFoldDB; Q55EH8; -.\n",
            "DR   SMR; Q55EH8; -.\n",
            "DR   PaxDb; Q55EH8; -.\n",
            "DR   InParanoid; Q55EH8; -.\n",
            "DR   PhylomeDB; Q55EH8; -.\n",
            "DR   PRO; PR:Q55EH8; -.\n"
          ]
        }
      ]
    }
  ]
}