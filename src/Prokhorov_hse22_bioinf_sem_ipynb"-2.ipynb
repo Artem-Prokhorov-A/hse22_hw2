{
  "nbformat": 4,
  "nbformat_minor": 0,
  "metadata": {
    "colab": {
      "provenance": [],
      "collapsed_sections": []
    },
    "kernelspec": {
      "name": "python3",
      "display_name": "Python 3"
    },
    "language_info": {
      "name": "python"
    }
  },
  "cells": [
    {
      "cell_type": "code",
      "execution_count": 1,
      "metadata": {
        "colab": {
          "base_uri": "https://localhost:8080/"
        },
        "id": "eVKk9m3Jknjw",
        "outputId": "a4492ac8-2b6b-46eb-f35b-92dc3c46bc4d"
      },
      "outputs": [
        {
          "output_type": "stream",
          "name": "stdout",
          "text": [
            "Looking in indexes: https://pypi.org/simple, https://us-python.pkg.dev/colab-wheels/public/simple/\n",
            "Collecting biopython\n",
            "  Downloading biopython-1.79-cp37-cp37m-manylinux_2_17_x86_64.manylinux2014_x86_64.whl (2.6 MB)\n",
            "\u001b[K     |████████████████████████████████| 2.6 MB 4.7 MB/s \n",
            "\u001b[?25hRequirement already satisfied: numpy in /usr/local/lib/python3.7/dist-packages (from biopython) (1.21.6)\n",
            "Installing collected packages: biopython\n",
            "Successfully installed biopython-1.79\n"
          ]
        }
      ],
      "source": [
        "!pip install biopython"
      ]
    },
    {
      "cell_type": "code",
      "source": [
        "from Bio import SeqIO\n",
        "from Bio.Seq import Seq\n",
        "from Bio.SeqUtils import GC\n",
        "from Bio.Data import CodonTable\n",
        "from Bio import Entrez\n",
        "from Bio.SeqFeature import SeqFeature, FeatureLocation"
      ],
      "metadata": {
        "id": "Mr_5oooPlNUt"
      },
      "execution_count": 2,
      "outputs": []
    },
    {
      "cell_type": "code",
      "source": [
        "!wget https://raw.githubusercontent.com/Artem-Prokhorov-A/hse22_hw2/main/data/scaffolds.fasta\n",
        "!wget https://raw.githubusercontent.com/Artem-Prokhorov-A/hse22_hw2/main/data/proteins.fasta\n"
      ],
      "metadata": {
        "colab": {
          "base_uri": "https://localhost:8080/"
        },
        "id": "9Jc-ScT4FD-F",
        "outputId": "889567a1-22ee-4f63-bc5b-d2f637068134"
      },
      "execution_count": 7,
      "outputs": [
        {
          "output_type": "stream",
          "name": "stdout",
          "text": [
            "--2022-10-19 17:49:13--  https://raw.githubusercontent.com/Artem-Prokhorov-A/hse22_hw2/main/data/scaffolds.fasta\n",
            "Resolving raw.githubusercontent.com (raw.githubusercontent.com)... 185.199.108.133, 185.199.109.133, 185.199.110.133, ...\n",
            "Connecting to raw.githubusercontent.com (raw.githubusercontent.com)|185.199.108.133|:443... connected.\n",
            "HTTP request sent, awaiting response... 200 OK\n",
            "Length: 3965136 (3.8M) [text/plain]\n",
            "Saving to: ‘scaffolds.fasta.1’\n",
            "\n",
            "scaffolds.fasta.1   100%[===================>]   3.78M  --.-KB/s    in 0.07s   \n",
            "\n",
            "2022-10-19 17:49:14 (52.9 MB/s) - ‘scaffolds.fasta.1’ saved [3965136/3965136]\n",
            "\n",
            "--2022-10-19 17:49:14--  https://raw.githubusercontent.com/Artem-Prokhorov-A/hse22_hw2/main/data/proteins.fasta\n",
            "Resolving raw.githubusercontent.com (raw.githubusercontent.com)... 185.199.111.133, 185.199.109.133, 185.199.108.133, ...\n",
            "Connecting to raw.githubusercontent.com (raw.githubusercontent.com)|185.199.111.133|:443... connected.\n",
            "HTTP request sent, awaiting response... 200 OK\n",
            "Length: 1403407 (1.3M) [text/plain]\n",
            "Saving to: ‘proteins.fasta’\n",
            "\n",
            "proteins.fasta      100%[===================>]   1.34M  --.-KB/s    in 0.06s   \n",
            "\n",
            "2022-10-19 17:49:14 (24.1 MB/s) - ‘proteins.fasta’ saved [1403407/1403407]\n",
            "\n"
          ]
        }
      ]
    },
    {
      "cell_type": "code",
      "source": [
        "scaffolds = []\n",
        "ma_len = 0\n",
        "for scaffold in SeqIO.parse('/content/scaffolds.fasta', format='fasta'):\n",
        "  ma_len = max(ma_len, len(scaffold))\n",
        "  scaffolds.append(scaffold)\n",
        "\n",
        "\n",
        "print('Колво скаффолдов:', len(scaffolds))\n",
        "print('длина самого длинного:', ma_len)\n",
        "\n",
        "gens = SeqIO.to_dict(SeqIO.parse('/content/proteins.fasta', format='fasta'))\n",
        "print('Колво генов:', len(gens))\n"
      ],
      "metadata": {
        "colab": {
          "base_uri": "https://localhost:8080/"
        },
        "id": "4illswK6lVcN",
        "outputId": "b151c761-6468-40d5-b22c-4ba4da7b6a54"
      },
      "execution_count": 9,
      "outputs": [
        {
          "output_type": "stream",
          "name": "stdout",
          "text": [
            "Колво скаффолдов: 70\n",
            "длина самого длинного: 3873035\n",
            "Колво генов: 3614\n"
          ]
        }
      ]
    }
  ]
}